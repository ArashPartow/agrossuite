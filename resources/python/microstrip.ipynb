{
 "cells": [
  {
   "cell_type": "markdown",
   "metadata": {},
   "source": [
    "# Microstrip - electrostatic and magnetic field\n",
    "\n",
    "### Forward problem"
   ]
  },
  {
   "cell_type": "code",
   "execution_count": 1,
   "metadata": {
    "collapsed": false
   },
   "outputs": [
    {
     "data": {
      "text/plain": [
       "3"
      ]
     },
     "execution_count": 1,
     "metadata": {},
     "output_type": "execute_result"
    }
   ],
   "source": [
    "import agros2d as a2d\n",
    "\n",
    "# problem\n",
    "problem = a2d.problem(clear = True)\n",
    "problem.coordinate_type = \"planar\"\n",
    "problem.mesh_type = \"triangle\"\n",
    "problem.parameters[\"W\"] = 0.1\n",
    "problem.parameters[\"b\"] = 0.4\n",
    "problem.parameters[\"h\"] = 0.05\n",
    "problem.parameters[\"tg\"] = 0.01\n",
    "problem.parameters[\"ts\"] = 0.01\n",
    "\n",
    "# electrostatic field\n",
    "electrostatic = problem.field(\"electrostatic\")\n",
    "electrostatic.analysis_type = \"steadystate\"\n",
    "electrostatic.matrix_solver = \"umfpack\"\n",
    "electrostatic.number_of_refinements = 1\n",
    "electrostatic.polynomial_order = 2\n",
    "electrostatic.adaptivity_type = \"disabled\"\n",
    "electrostatic.solver = \"linear\"\n",
    "\n",
    "# boundaries\n",
    "electrostatic.add_boundary(\"Neumann\", \n",
    "                           \"electrostatic_surface_charge_density\", \n",
    "                           {\"electrostatic_surface_charge_density\" : 0})\n",
    "electrostatic.add_boundary(\"Voltage\", \n",
    "                           \"electrostatic_potential\", \n",
    "                           {\"electrostatic_potential\" : 1})\n",
    "electrostatic.add_boundary(\"Ground\", \n",
    "                           \"electrostatic_potential\", \n",
    "                           {\"electrostatic_potential\" : 0})\n",
    "\n",
    "# materials\n",
    "electrostatic.add_material(\"Strip\", {\"electrostatic_permittivity\" : 2.6, \"electrostatic_charge_density\" : 0})\n",
    "electrostatic.add_material(\"Air\", {\"electrostatic_permittivity\" : 1, \"electrostatic_charge_density\" : 0})\n",
    "\n",
    "# magnetic\n",
    "magnetic = problem.field(\"magnetic\")\n",
    "magnetic.analysis_type = \"steadystate\"\n",
    "magnetic.matrix_solver = \"umfpack\"\n",
    "magnetic.number_of_refinements = 1\n",
    "magnetic.polynomial_order = 2\n",
    "magnetic.adaptivity_type = \"disabled\"\n",
    "magnetic.solver = \"linear\"\n",
    "\n",
    "# boundaries\n",
    "magnetic.add_boundary(\"Neumann\", \"magnetic_surface_current\", {\"magnetic_surface_current_real\" : 0})\n",
    "magnetic.add_boundary(\"A = 0\", \"magnetic_potential\", {\"magnetic_potential_real\" : 0})\n",
    "\n",
    "# materials\n",
    "magnetic.add_material(\"I+\", {\"magnetic_permeability\" : 1,                              \n",
    "                             \"magnetic_current_density_external_real\" : \"0.5/(W/2*ts)\"})\n",
    "magnetic.add_material(\"I-\", {\"magnetic_permeability\" : 1, \n",
    "                             \"magnetic_current_density_external_real\" : \"-0.5/(b/2*tg)\"})\n",
    "magnetic.add_material(\"Air\", {\"magnetic_permeability\" : 1})\n",
    "\n",
    "# geometry\n",
    "geometry = problem.geometry()\n",
    "geometry.add_edge(0, 0.6, 0.6, 0.6, boundaries = {\"magnetic\" : \"A = 0\"})\n",
    "geometry.add_edge(0.6, 0.6, 0.6, -0.6, boundaries = {\"magnetic\" : \"A = 0\"})\n",
    "geometry.add_edge(0.6, -0.6, 0, -0.6, boundaries = {\"magnetic\" : \"A = 0\"})\n",
    "geometry.add_edge(0, \"-tg\", 0, -0.6, boundaries = {\"electrostatic\" : \"Neumann\", \"magnetic\" : \"Neumann\"})\n",
    "geometry.add_edge(0, 0, 0, \"-tg\", boundaries = {\"electrostatic\" : \"Neumann\", \"magnetic\" : \"Neumann\"})\n",
    "geometry.add_edge(0, \"-tg\", \"b/2\", \"-tg\", boundaries = {\"electrostatic\" : \"Ground\"})\n",
    "geometry.add_edge(\"b/2\", \"h\", \"b/2\", 0)\n",
    "geometry.add_edge(\"W/2\", \"h\", 0, \"h\", boundaries = {\"electrostatic\" : \"Voltage\"})\n",
    "geometry.add_edge(0, \"h+ts\", 0, \"h\", boundaries = {\"electrostatic\" : \"Neumann\", \"magnetic\" : \"Neumann\"})\n",
    "geometry.add_edge(0, 0, 0, \"h\", boundaries = {\"electrostatic\" : \"Neumann\", \"magnetic\" : \"Neumann\"})\n",
    "geometry.add_edge(\"W/2\", \"h+ts\", \"W/2\", \"h\", boundaries = {\"electrostatic\" : \"Voltage\"})\n",
    "geometry.add_edge(0, \"h+ts\", \"W/2\", \"h+ts\", boundaries = {\"electrostatic\" : \"Voltage\"})\n",
    "geometry.add_edge(\"W/2\", \"h\", \"b/2\", \"h\")\n",
    "geometry.add_edge(0, 0.6, 0, \"h+ts\", boundaries = {\"electrostatic\" : \"Neumann\", \"magnetic\" : \"Neumann\"})\n",
    "geometry.add_edge(\"b/2\", 0, \"b/2\", \"-tg\", boundaries = {\"electrostatic\" : \"Ground\"})\n",
    "geometry.add_edge(\"b/2\", 0, 0, 0, boundaries = {\"electrostatic\" : \"Ground\"})\n",
    "\n",
    "geometry.add_label(0.456863, 0.29972, materials = {\"electrostatic\" : \"Air\", \"magnetic\" : \"Air\"})\n",
    "geometry.add_label(\"b/4\", \"h/2\", materials = {\"electrostatic\" : \"Strip\", \"magnetic\" : \"Air\"})\n",
    "geometry.add_label(\"W/4\", \"h+ts/2\", materials = {\"electrostatic\" : \"none\", \"magnetic\" : \"I+\"})\n",
    "geometry.add_label(\"b/4\", \"-tg/2\", materials = {\"electrostatic\" : \"none\", \"magnetic\" : \"I-\"})"
   ]
  },
  {
   "cell_type": "markdown",
   "metadata": {},
   "source": [
    "### Recipes and optimization (NLopt - BOBYQA)"
   ]
  },
  {
   "cell_type": "code",
   "execution_count": 4,
   "metadata": {
    "collapsed": true
   },
   "outputs": [],
   "source": [
    "# recipes \n",
    "electrostatic.add_recipe_volume_integral(\"We\", \"electrostatic_energy\", [0, 1], -1, -1)\n",
    "magnetic.add_recipe_volume_integral(\"Wm\", \"magnetic_energy\", [0, 1, 2, 3], -1, -1)\n",
    "\n",
    "# study\n",
    "study = problem.add_study(\"nlopt\")\n",
    "study.add_parameter(\"W\", 0.01, 0.05)\n",
    "study.add_parameter(\"b\", 0.06, 0.3)\n",
    "study.add_parameter(\"h\", 0.01, 0.1)\n",
    "study.add_parameter(\"tg\", 0.001, 0.03)\n",
    "study.add_parameter(\"ts\", 0.001, 0.03)\n",
    "study.add_functional(\"OF\", \"abs(sqrt((4*Wm/1**2)/(4*We/1**2))-75)\", 100)\n",
    "study.add_functional(\"Z0\", \"sqrt((4*Wm/1**2)/(4*We/1**2))\", 0)\n",
    "study.clear_solution = True\n",
    "study.solve_problem = True\n",
    "study.settings[\"xtol_rel\"] = 9.9999999999999995e-07\n",
    "study.settings[\"xtol_abs\"] = 9.9999999999999998e-13\n",
    "study.settings[\"ftol_rel\"] = 9.9999999999999995e-07\n",
    "study.settings[\"ftol_abs\"] = 9.9999999999999998e-13\n",
    "study.settings[\"n_iterations\"] = 10\n",
    "study.settings[\"algorithm\"] = \"ln_bobyqa\"\n",
    "\n",
    "# optimize\n",
    "study.solve()"
   ]
  },
  {
   "cell_type": "markdown",
   "metadata": {},
   "source": [
    "### Output - charts"
   ]
  },
  {
   "cell_type": "code",
   "execution_count": 5,
   "metadata": {
    "collapsed": false
   },
   "outputs": [
    {
     "data": {
      "text/plain": [
       "<matplotlib.text.Text at 0x7ff795647208>"
      ]
     },
     "execution_count": 5,
     "metadata": {},
     "output_type": "execute_result"
    },
    {
     "data": {
      "image/png": "[encoded data removed]",
      "text/plain": [
       "<matplotlib.figure.Figure at 0x7ff7ddf45550>"
      ]
     },
     "metadata": {},
     "output_type": "display_data"
    }
   ],
   "source": [
    "# chart\n",
    "steps = study.steps()\n",
    "OF = study.values(\"OF\")\n",
    "Z0 = study.values(\"Z0\")\n",
    "\n",
    "%matplotlib inline\n",
    "import matplotlib.pyplot as pl\n",
    "import numpy as np\n",
    "\n",
    "pl.figure(figsize=(20, 5))\n",
    "pl.subplot(121)\n",
    "pl.plot(steps, OF, 'o')\n",
    "pl.xlabel(\"steps (-)\")\n",
    "pl.ylabel(\"OF (-)\")\n",
    "\n",
    "pl.subplot(122)\n",
    "pl.plot(steps, Z0, 'o')\n",
    "pl.plot(steps, 75*np.ones(len(steps)), linewidth=2)\n",
    "pl.xlabel(\"steps (-)\")\n",
    "pl.ylabel(\"Z0 (-)\")"
   ]
  },
  {
   "cell_type": "markdown",
   "metadata": {},
   "source": [
    "### VTK Output"
   ]
  },
  {
   "cell_type": "code",
   "execution_count": null,
   "metadata": {
    "collapsed": false
   },
   "outputs": [],
   "source": [
    "computation = study.find_extreme(\"functional\", \"OF\", True)\n",
    "computation.solve()\n",
    "\n",
    "solution_electrostatic = computation.solution(\"electrostatic\")\n",
    "solution_electrostatic.exportVTK(\"/tmp/elstat.vtk\", 0, 0, \"electrostatic_potential\", \"scalar\")\n",
    "\n",
    "solution_magnetic = computation.solution(\"magnetic\")\n",
    "solution_magnetic.exportVTK(\"/tmp/magstat.vtk\", 0, 0, \"magnetic_potential_real\", \"scalar\")"
   ]
  },
  {
   "cell_type": "code",
   "execution_count": null,
   "metadata": {
    "collapsed": false
   },
   "outputs": [],
   "source": [
    "import vtk_tools as vt\n",
    "vt.read_vtk_scalar(\"/tmp/elstat.vtk\")"
   ]
  },
  {
   "cell_type": "code",
   "execution_count": null,
   "metadata": {
    "collapsed": false
   },
   "outputs": [],
   "source": [
    "vt.read_vtk_scalar(\"/tmp/magstat.vtk\")"
   ]
  }
 ],
 "metadata": {
  "kernelspec": {
   "display_name": "Python 3",
   "language": "python",
   "name": "python3"
  },
  "language_info": {
   "codemirror_mode": {
    "name": "ipython",
    "version": 3
   },
   "file_extension": ".py",
   "mimetype": "text/x-python",
   "name": "python",
   "nbconvert_exporter": "python",
   "pygments_lexer": "ipython3",
   "version": "3.5.2"
  }
 },
 "nbformat": 4,
 "nbformat_minor": 0
}
